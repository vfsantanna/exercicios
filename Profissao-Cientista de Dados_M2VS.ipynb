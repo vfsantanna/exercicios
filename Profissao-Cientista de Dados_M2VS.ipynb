{
 "cells": [
  {
   "cell_type": "markdown",
   "metadata": {},
   "source": [
    "## Vivian Sant'Anna - Projeto 2\n",
    "\n",
    "#Módulo 10 atividade 1"
   ]
  },
  {
   "cell_type": "markdown",
   "metadata": {},
   "source": [
    "Uma instituição financeira quer conhecer melhor o perfil de renda de seus novos clientes para diversos fins, por exemplo, melhor dimensionar o limite de cartões de crédito dos novos clientes, sem necessariamente solicitar olerites ou documentações que impactem na experiência do seu cliente.\n",
    "\n",
    "Para isto, conduziu um estudo com alguns clientes, comprovando suas rendas através de olerites e outros documentos, e pretende construir um modelo preditivo para esta renda com base em algumas variáveis que já possui em seu banco de dados.\n",
    "\n",
    "As variáveis são intuitivas - note que há uma variável 'index' que é um identificador do cliente e que em geral o ```read_csv``` do pandas coloca também uma variável sequencial.\n",
    "\n",
    "Estes dados estão no arquivo ```previsao_de_renda.csv```. Carregue-o em um *dataframe*.\n",
    "\n",
    "1) Avalie a estrutura de correlação das variáveis quantitativas através de um gráfico de \"matriz de dispersão\" e através da avaliação gráfica da matriz de correlações. Veja se você identifica algum padrão interessante ou que te faça sentido."
   ]
  },
  {
   "cell_type": "code",
   "execution_count": 25,
   "metadata": {},
   "outputs": [
    {
     "name": "stdout",
     "output_type": "stream",
     "text": [
      "   Unnamed: 0    data_ref  index sexo  posse_de_veiculo  posse_de_imovel  \\\n",
      "0           0  2015-01-01   8682    F             False             True   \n",
      "1           1  2015-01-01  12830    M              True             True   \n",
      "2           2  2015-01-01   2885    M              True             True   \n",
      "3           3  2015-01-01  16168    F              True            False   \n",
      "4           4  2015-01-01  12438    M             False            False   \n",
      "\n",
      "   qtd_filhos   tipo_renda           educacao estado_civil tipo_residencia  \\\n",
      "0           1  Assalariado         Secundário       Casado            Casa   \n",
      "1           0   Empresário         Secundário       Casado            Casa   \n",
      "2           2  Assalariado  Superior completo       Casado            Casa   \n",
      "3           0   Empresário         Secundário       Casado            Casa   \n",
      "4           0  Assalariado         Secundário       Casado            Casa   \n",
      "\n",
      "   idade  tempo_emprego  qt_pessoas_residencia    mau    renda  \n",
      "0     36       3.575342                    3.0  False  3369.24  \n",
      "1     42       0.860274                    2.0  False  6096.14  \n",
      "2     31       8.065753                    4.0  False  5658.98  \n",
      "3     50       1.208219                    2.0  False  7246.69  \n",
      "4     52      13.873973                    2.0  False  4017.37  \n"
     ]
    }
   ],
   "source": [
    "import pandas as pd\n",
    "\n",
    "# Carregando o arquivo CSV em um DataFrame\n",
    "previsao_de_renda = pd.read_csv('previsao_de_renda.csv')\n",
    "\n",
    "# Exibindo as primeiras linhas do DataFrame para verificação\n",
    "print(previsao_de_renda.head())"
   ]
  },
  {
   "cell_type": "code",
   "execution_count": 26,
   "metadata": {},
   "outputs": [
    {
     "ename": "NameError",
     "evalue": "name 'plt' is not defined",
     "output_type": "error",
     "traceback": [
      "\u001b[0;31m---------------------------------------------------------------------------\u001b[0m",
      "\u001b[0;31mNameError\u001b[0m                                 Traceback (most recent call last)",
      "Cell \u001b[0;32mIn[26], line 25\u001b[0m\n\u001b[1;32m     22\u001b[0m correlacao_expandida \u001b[38;5;241m=\u001b[39m previsao_de_renda[variaveis_analise]\u001b[38;5;241m.\u001b[39mcorr()\n\u001b[1;32m     24\u001b[0m \u001b[38;5;66;03m# Gerando o mapa de calor da matriz de correlação expandida\u001b[39;00m\n\u001b[0;32m---> 25\u001b[0m plt\u001b[38;5;241m.\u001b[39mfigure(figsize\u001b[38;5;241m=\u001b[39m(\u001b[38;5;241m12\u001b[39m, \u001b[38;5;241m10\u001b[39m))\n\u001b[1;32m     26\u001b[0m sns\u001b[38;5;241m.\u001b[39mheatmap(correlacao_expandida, annot\u001b[38;5;241m=\u001b[39m\u001b[38;5;28;01mTrue\u001b[39;00m, fmt\u001b[38;5;241m=\u001b[39m\u001b[38;5;124m\"\u001b[39m\u001b[38;5;124m.2f\u001b[39m\u001b[38;5;124m\"\u001b[39m, cmap\u001b[38;5;241m=\u001b[39m\u001b[38;5;124m\"\u001b[39m\u001b[38;5;124mcoolwarm\u001b[39m\u001b[38;5;124m\"\u001b[39m)\n\u001b[1;32m     27\u001b[0m plt\u001b[38;5;241m.\u001b[39mtitle(\u001b[38;5;124m'\u001b[39m\u001b[38;5;124mMatriz de Correlação Expandida com Variáveis Quantitativas e Categóricas\u001b[39m\u001b[38;5;124m'\u001b[39m)\n",
      "\u001b[0;31mNameError\u001b[0m: name 'plt' is not defined"
     ]
    }
   ],
   "source": [
    "from sklearn.preprocessing import LabelEncoder\n",
    "\n",
    "# Convertendo variáveis categóricas binárias em numéricas\n",
    "previsao_de_renda['sexo'] = previsao_de_renda['sexo'].map({'F': 0, 'M': 1})  # Feminino: 0, Masculino: 1\n",
    "previsao_de_renda['posse_de_veiculo'] = previsao_de_renda['posse_de_veiculo'].astype(int)  # False: 0, True: 1\n",
    "previsao_de_renda['posse_de_imovel'] = previsao_de_renda['posse_de_imovel'].astype(int)  # False: 0, True: 1\n",
    "previsao_de_renda['mau'] = previsao_de_renda['mau'].astype(int)  # False: 0, True: 1\n",
    "\n",
    "# Codificando variáveis categóricas nominais e ordinais\n",
    "label_encoder = LabelEncoder()\n",
    "variaveis_para_codificar = ['tipo_renda', 'educacao', 'estado_civil', 'tipo_residencia']\n",
    "\n",
    "for var in variaveis_para_codificar:\n",
    "    previsao_de_renda[var + '_cod'] = label_encoder.fit_transform(previsao_de_renda[var])\n",
    "\n",
    "# Selecionando variáveis para análise, incluindo as codificadas\n",
    "variaveis_analise = ['sexo', 'posse_de_veiculo', 'posse_de_imovel', 'qtd_filhos', 'idade',\n",
    "                     'tempo_emprego', 'qt_pessoas_residencia', 'renda', 'tipo_renda_cod',\n",
    "                     'educacao_cod', 'estado_civil_cod', 'tipo_residencia_cod', 'mau']\n",
    "\n",
    "# Calculando a matriz de correlação com as novas variáveis incluídas\n",
    "correlacao_expandida = previsao_de_renda[variaveis_analise].corr()\n",
    "\n",
    "# Gerando o mapa de calor da matriz de correlação expandida\n",
    "plt.figure(figsize=(12, 10))\n",
    "sns.heatmap(correlacao_expandida, annot=True, fmt=\".2f\", cmap=\"coolwarm\")\n",
    "plt.title('Matriz de Correlação Expandida com Variáveis Quantitativas e Categóricas')\n",
    "plt.show()"
   ]
  },
  {
   "cell_type": "markdown",
   "metadata": {},
   "source": [
    "**Insights**\n",
    "\n",
    "**Correlação entre Posse de Veículo e Sexo:** Há uma correlação moderada entre a posse de veículo e o sexo (0,37), sugerindo que, neste conjunto de dados, os homens podem ter uma probabilidade ligeiramente maior de possuir um veículo em comparação com as mulheres.\n",
    "\n",
    "**Correlação entre Idade e Tempo de Emprego:** Existe uma correlação positiva significativa entre a idade e o tempo de emprego (0,62), o que é intuitivo, já que indivíduos mais velhos tendem a ter tido mais oportunidades de acumular experiência de trabalho ao longo do tempo.\n",
    "\n",
    "**Correlação Negativa entre Idade e Qtd de Filhos:** Observa-se uma correlação negativa leve entre a idade e a quantidade de filhos (-0,35), o que pode indicar que, neste conjunto de dados, famílias mais jovens tendem a ter mais filhos.\n",
    "\n",
    "**Relação entre Educação e Renda:** A variável educacao_cod tem uma correlação com renda (-0,20), o que pode sugerir que diferentes níveis de educação possam estar associados a diferentes faixas de renda, embora a correlação não seja muito forte. Vale notar que a codificação usada pode não refletir completamente a ordem ou o valor intrínseco dos níveis de educação em relação à renda.\n",
    "\n",
    "**Correlação Negativa entre Tipo de Renda e Renda:** A variável tipo_renda_cod mostra uma correlação negativa com renda (-0,23), o que pode indicar que diferentes tipos de renda (como assalariado, empresário, etc.) possuem diferentes potenciais de renda. Similar à educação, a natureza da codificação pode não capturar completamente a relação entre o tipo de renda e o valor da renda."
   ]
  },
  {
   "cell_type": "markdown",
   "metadata": {},
   "source": [
    "2) Avalie um gráfico de dispersão (*scatterplot*) específico para as duas variáveis mais correlacionadas com *renda*."
   ]
  },
  {
   "cell_type": "code",
   "execution_count": 27,
   "metadata": {},
   "outputs": [
    {
     "ename": "NameError",
     "evalue": "name 'plt' is not defined",
     "output_type": "error",
     "traceback": [
      "\u001b[0;31m---------------------------------------------------------------------------\u001b[0m",
      "\u001b[0;31mNameError\u001b[0m                                 Traceback (most recent call last)",
      "Cell \u001b[0;32mIn[27], line 6\u001b[0m\n\u001b[1;32m      3\u001b[0m variaveis_mais_correlacionadas \u001b[38;5;241m=\u001b[39m correlacoes_renda\u001b[38;5;241m.\u001b[39mhead(\u001b[38;5;241m2\u001b[39m)\u001b[38;5;241m.\u001b[39mindex\u001b[38;5;241m.\u001b[39mtolist()\n\u001b[1;32m      5\u001b[0m \u001b[38;5;66;03m# Gerando gráficos de dispersão para as duas variáveis mais correlacionadas com 'renda'\u001b[39;00m\n\u001b[0;32m----> 6\u001b[0m plt\u001b[38;5;241m.\u001b[39mfigure(figsize\u001b[38;5;241m=\u001b[39m(\u001b[38;5;241m15\u001b[39m, \u001b[38;5;241m6\u001b[39m))\n\u001b[1;32m      8\u001b[0m \u001b[38;5;28;01mfor\u001b[39;00m i, var \u001b[38;5;129;01min\u001b[39;00m \u001b[38;5;28menumerate\u001b[39m(variaveis_mais_correlacionadas, \u001b[38;5;241m1\u001b[39m):\n\u001b[1;32m      9\u001b[0m     plt\u001b[38;5;241m.\u001b[39msubplot(\u001b[38;5;241m1\u001b[39m, \u001b[38;5;241m2\u001b[39m, i)\n",
      "\u001b[0;31mNameError\u001b[0m: name 'plt' is not defined"
     ]
    }
   ],
   "source": [
    "# Identificando as duas variáveis mais correlacionadas com 'renda', excluindo a própria 'renda'\n",
    "correlacoes_renda = correlacao_expandida['renda'].drop('renda').sort_values(ascending=False)\n",
    "variaveis_mais_correlacionadas = correlacoes_renda.head(2).index.tolist()\n",
    "\n",
    "# Gerando gráficos de dispersão para as duas variáveis mais correlacionadas com 'renda'\n",
    "plt.figure(figsize=(15, 6))\n",
    "\n",
    "for i, var in enumerate(variaveis_mais_correlacionadas, 1):\n",
    "    plt.subplot(1, 2, i)\n",
    "    sns.scatterplot(x=previsao_de_renda[var], y=previsao_de_renda['renda'])\n",
    "    plt.title(f'Dispersão entre {var} e Renda')\n",
    "    plt.xlabel(var)\n",
    "    plt.ylabel('Renda')\n",
    "\n",
    "plt.tight_layout()\n",
    "plt.show()\n",
    "\n",
    "variaveis_mais_correlacionadas  # Retornando as variáveis mais correlacionadas para referência"
   ]
  },
  {
   "cell_type": "markdown",
   "metadata": {},
   "source": [
    "**Disclaimer**\n",
    "\n",
    "Apesar da variável sexo ter mostrado uma correlação com Renda, eu não a utilizaria por questões éticas para que as aplicações práticas não reforcem estereotipos ou resultem em discriminação"
   ]
  },
  {
   "cell_type": "markdown",
   "metadata": {},
   "source": [
    "3) Na sua opinião, há outliers na variável renda?"
   ]
  },
  {
   "cell_type": "code",
   "execution_count": null,
   "metadata": {},
   "outputs": [],
   "source": [
    "# Gerando um boxplot para a variável 'renda' em busca de outliers\n",
    "plt.figure(figsize=(10, 6))\n",
    "sns.boxplot(x=previsao_de_renda['renda'])\n",
    "plt.title('Boxplot da Renda')\n",
    "plt.xlabel('Renda')\n",
    "plt.show()"
   ]
  },
  {
   "cell_type": "markdown",
   "metadata": {},
   "source": [
    "A distribuição dos dados sugere que a maioria das rendas se concentra em valores mais baixos, com uma quantidade relativamente pequena de valores excepcionalmente altos que se qualificam como outliers. Esses outliers podem ser devidos a uma variedade de fatores, incluindo, mas não se limitando a, diferenças substanciais na renda devido a profissões altamente remuneradas, status empresarial, ou outros fatores econômicos."
   ]
  },
  {
   "cell_type": "markdown",
   "metadata": {},
   "source": [
    "4) Calcule o logaritmo da variável renda e repita a sequência de análise"
   ]
  },
  {
   "cell_type": "code",
   "execution_count": null,
   "metadata": {},
   "outputs": [],
   "source": [
    "import numpy as np\n",
    "\n",
    "# Aplicando a transformação logarítmica na variável 'renda' para criar uma nova coluna 'log_renda'\n",
    "previsao_de_renda['log_renda'] = np.log(previsao_de_renda['renda'])\n",
    "\n",
    "# Gerando um histograma para a variável 'log_renda'\n",
    "plt.figure(figsize=(12, 6))\n",
    "\n",
    "plt.subplot(1, 2, 1)\n",
    "sns.histplot(previsao_de_renda['log_renda'], kde=True)\n",
    "plt.title('Histograma da Log Renda')\n",
    "plt.xlabel('Log Renda')\n",
    "plt.ylabel('Frequência')\n",
    "\n",
    "# Gerando um boxplot para a variável 'log_renda'\n",
    "plt.subplot(1, 2, 2)\n",
    "sns.boxplot(x=previsao_de_renda['log_renda'])\n",
    "plt.title('Boxplot da Log Renda')\n",
    "plt.xlabel('Log Renda')\n",
    "\n",
    "plt.tight_layout()\n",
    "plt.show()\n"
   ]
  },
  {
   "cell_type": "markdown",
   "metadata": {},
   "source": [
    "A transformação logarítmica da variável \"renda\" resultou em uma nova variável \"log_renda\", cuja distribuição foi visualizada através de um histograma e um boxplot.\n",
    "\n",
    "Histograma da Log Renda: O histograma da \"log_renda\" mostra uma distribuição que parece mais simétrica e normalizada em comparação com a distribuição original da \"renda\". Isso indica que a transformação logarítmica ajudou a normalizar a distribuição, tornando-a mais próxima de uma distribuição normal, o que pode ser benéfico para certas análises estatísticas e modelagens preditivas.\n",
    "\n",
    "Boxplot da Log Renda: O boxplot da \"log_renda\" sugere uma redução na presença e impacto de outliers em comparação com o boxplot original da \"renda\". Embora ainda existam alguns outliers, eles parecem menos extremos, o que é um efeito comum da transformação logarítmica, já que ela tende a reduzir a variabilidade dos dados, especialmente para valores maiores.\n",
    "\n",
    "Essas observações indicam que a transformação logarítmica pode ser útil para tratar a assimetria e a presença de outliers na variável \"renda\", possivelmente melhorando a qualidade das análises subsequentes.\n",
    "\n",
    "A seguir, podemos revisar a matriz de correlação incluindo a \"log_renda\" para ver como essa transformação afeta as relações entre \"renda\" e outras variáveis no conjunto de dados."
   ]
  },
  {
   "cell_type": "code",
   "execution_count": null,
   "metadata": {},
   "outputs": [],
   "source": [
    "# Atualizando a matriz de correlação para incluir 'log_renda'\n",
    "correlacao_expandida_com_log = previsao_de_renda[variaveis_analise + ['log_renda']].corr()\n",
    "\n",
    "# Gerando o mapa de calor da matriz de correlação atualizada\n",
    "plt.figure(figsize=(14, 12))\n",
    "sns.heatmap(correlacao_expandida_com_log, annot=True, fmt=\".2f\", cmap=\"coolwarm\")\n",
    "plt.title('Matriz de Correlação Expandida com Log Renda')\n",
    "plt.show()"
   ]
  },
  {
   "cell_type": "markdown",
   "metadata": {},
   "source": [
    "A matriz de correlação expandida agora inclui a \"log_renda\", permitindo-nos observar como a transformação logarítmica da renda impacta suas correlações com as outras variáveis no conjunto de dados.\n",
    "\n",
    "Algumas observações da matriz de correlação atualizada:\n",
    "\n",
    "**Correlações com Log Renda:** A inclusão da \"log_renda\" na matriz permite comparar diretamente suas correlações com outras variáveis em relação à \"renda\" original. Isso pode revelar se a transformação logarítmica alterou significativamente a força ou a direção de quaisquer correlações.\n",
    "\n",
    "**Comparação com Renda Original:** Ao comparar as correlações da \"log_renda\" com as da \"renda\" original, podemos avaliar se a transformação logarítmica resultou em relações mais lineares ou em uma alteração na força das correlações. Isso pode ser particularmente útil para variáveis que tinham correlações fracas ou não lineares com a \"renda\" original.\n",
    "\n",
    "**Insights para Modelagem:** A transformação logarítmica pode melhorar a performance de modelos preditivos ao normalizar a distribuição de variáveis dependentes e reduzir o impacto de outliers. As correlações na matriz atualizada podem fornecer insights valiosos sobre quais variáveis podem ser mais relevantes ao modelar a \"log_renda\" em vez da \"renda\" original.\n",
    "\n",
    "Este tipo de análise é fundamental para entender melhor as dinâmicas dos dados e preparar o terreno para modelagens preditivas mais eficazes, especialmente em contextos financeiros onde a renda desempenha um papel crucial em muitas decisões"
   ]
  },
  {
   "cell_type": "markdown",
   "metadata": {},
   "source": [
    "5) A aplicação do LOG você acha que melhorou ou piorou a análise?"
   ]
  },
  {
   "cell_type": "markdown",
   "metadata": {},
   "source": [
    "A aplicação do logaritmo na variável \"renda\" parece ter melhorado a análise em várias frentes:\n",
    "\n",
    "**Normalização da Distribuição:** O histograma da \"log_renda\" mostrou uma distribuição mais simétrica e próxima de uma distribuição normal em comparação com a distribuição original da \"renda\". Em estatística, muitos testes e modelos preditivos, como regressão linear, assumem que as variáveis têm distribuições normais. Portanto, a transformação logarítmica ajudou a alinhar a distribuição da renda com essas premissas, potencialmente melhorando a validade de tais análises.\n",
    "\n",
    "**Redução de Outliers:** O boxplot da \"log_renda\" indicou uma redução significativa no impacto dos outliers. Embora ainda existam alguns outliers, eles não são tão extremos quanto na distribuição original da renda. Isso é benéfico porque outliers podem distorcer análises e modelos, levando a conclusões enganosas. A redução de outliers pode, portanto, levar a uma interpretação mais precisa dos dados.\n",
    "\n",
    "**Melhoria nas Correlações:** A matriz de correlação expandida com a \"log_renda\" permitiu observar as relações entre a renda transformada e outras variáveis. Embora a transformação logarítmica não altere necessariamente a direção das correlações, ela pode melhorar a linearidade e a interpretabilidade das relações, o que é particularmente útil para modelagem preditiva.\n",
    "\n",
    "**Aplicabilidade a Modelos Preditivos:** A normalização da distribuição de renda e a redução do impacto de outliers podem melhorar a performance de modelos preditivos. Modelos como a regressão linear funcionam melhor com variáveis que têm relações lineares e distribuições que se aproximam da normalidade.\n",
    "\n",
    "Portanto, considerando esses aspectos, a aplicação do logaritmo na variável \"renda\" parece ter melhorado a análise dos dados. "
   ]
  },
  {
   "cell_type": "markdown",
   "metadata": {},
   "source": [
    "**PROJETO 2**\n",
    "1. Com o que você viu em aula, faça uma análise das variáveis qualitativas (posse de imóvel e posse de veículo) para verificar se são boas preditoras de renda. Alguma delas parece discriminar renda de forma estatisticamente significante?"
   ]
  },
  {
   "cell_type": "markdown",
   "metadata": {},
   "source": []
  },
  {
   "cell_type": "code",
   "execution_count": 29,
   "metadata": {},
   "outputs": [
    {
     "data": {
      "text/plain": [
       "((4630.191566802044, 4811.913840855167),\n",
       " (4299.228109464851, 4554.712854341574),\n",
       " (4871.097439837466, 5114.061778403577),\n",
       " (4297.439071287505, 4483.574854751549))"
      ]
     },
     "execution_count": 29,
     "metadata": {},
     "output_type": "execute_result"
    }
   ],
   "source": [
    "# Função para calcular o intervalo de confiança da média\n",
    "def calcular_intervalo_confianca(dados):\n",
    "    media = np.mean(dados)\n",
    "    erro_padrao = stats.sem(dados)\n",
    "    intervalo = stats.t.interval(0.95, len(dados)-1, loc=media, scale=erro_padrao)\n",
    "    return intervalo\n",
    "\n",
    "# Calculando os intervalos de confiança para os grupos\n",
    "intervalo_confianca_imovel_possui = calcular_intervalo_confianca(grupo_imovel_possui)\n",
    "intervalo_confianca_imovel_nao_possui = calcular_intervalo_confianca(grupo_imovel_nao_possui)\n",
    "\n",
    "intervalo_confianca_veiculo_possui = calcular_intervalo_confianca(grupo_veiculo_possui)\n",
    "intervalo_confianca_veiculo_nao_possui = calcular_intervalo_confianca(grupo_veiculo_nao_possui)\n",
    "\n",
    "(intervalo_confianca_imovel_possui, intervalo_confianca_imovel_nao_possui, intervalo_confianca_veiculo_possui, intervalo_confianca_veiculo_nao_possui)\n"
   ]
  },
  {
   "cell_type": "markdown",
   "metadata": {},
   "source": [
    "## Os intervalos de confiança de 95% para as médias de renda dos grupos definidos pela posse de imóvel e veículo são:\n",
    "\n",
    "**Posse de Imóvel:\n",
    "\n",
    "**Possui Imóvel:** (4630.19, 4811.91)\n",
    "**Não Possui Imóvel:** (4299.23, 4554.71)\n",
    "\n",
    "\n",
    "**Posse de Veículo:**\n",
    "\n",
    "*Possui Veículo: (4871.10, 5114.06)\n",
    "*Não Possui Veículo: (4297.44, 4483.57)\n",
    "\n",
    "Esses intervalos indicam que, com 95% de confiança, a média verdadeira de renda para cada grupo está dentro dos respectivos intervalos. Por exemplo, para aqueles que possuem imóvel, podemos estar 95% confiantes de que a média verdadeira de renda está entre aproximadamente 4630.19 e 4811.91.\n",
    "\n",
    "A diferença entre os intervalos de confiança para os grupos \"Possui Imóvel\" vs. \"Não Possui Imóvel\" e \"Possui Veículo\" vs. \"Não Possui Veículo\" também sustenta a ideia de que há uma diferença estatisticamente significativa nas médias de renda entre esses grupos, como visto anteriormente nos testes t.\n",
    "\n",
    "Particularmente, a diferença entre os grupos de posse de veículo é mais acentuada, indicando uma associação mais forte entre possuir um veículo e ter uma renda maior. Isso é evidenciado pelo fato de que o intervalo de confiança para aqueles que possuem veículo não se sobrepõe ao intervalo para aqueles que não possuem, sugerindo uma diferença clara e significativa entre esses dois grupos em termos de renda."
   ]
  },
  {
   "cell_type": "code",
   "execution_count": null,
   "metadata": {},
   "outputs": [],
   "source": [
    "\n"
   ]
  },
  {
   "cell_type": "code",
   "execution_count": null,
   "metadata": {},
   "outputs": [],
   "source": []
  }
 ],
 "metadata": {
  "kernelspec": {
   "display_name": "Python 3 (ipykernel)",
   "language": "python",
   "name": "python3"
  },
  "language_info": {
   "codemirror_mode": {
    "name": "ipython",
    "version": 3
   },
   "file_extension": ".py",
   "mimetype": "text/x-python",
   "name": "python",
   "nbconvert_exporter": "python",
   "pygments_lexer": "ipython3",
   "version": "3.11.5"
  }
 },
 "nbformat": 4,
 "nbformat_minor": 4
}
